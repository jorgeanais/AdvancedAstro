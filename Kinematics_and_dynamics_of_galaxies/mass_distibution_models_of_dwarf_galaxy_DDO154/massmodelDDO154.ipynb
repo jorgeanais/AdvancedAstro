{
 "cells": [
  {
   "cell_type": "markdown",
   "metadata": {},
   "source": [
    "# Mass distribution model of the dwarf galaxy DDO154\n",
    "> Lessons in Advanced Astrophysics  \n",
    "Kinematics and dynamics of galaxies  \n",
    "3 Jun 2022  \n",
    "Jorge Anais"
   ]
  },
  {
   "cell_type": "markdown",
   "metadata": {},
   "source": [
    "![DDO154](images/image_4360e-NGC-4789A.jpg)"
   ]
  },
  {
   "cell_type": "markdown",
   "metadata": {},
   "source": [
    "## Derivation of the velocity contributions of luminous matter"
   ]
  },
  {
   "cell_type": "markdown",
   "metadata": {},
   "source": [
    "### Stellar disc\n",
    "The surface brightness profile of DDO154 measured at 3.6 μm with the Spitzer satellite is shown in\n",
    "Figure 2. Assume that the stellar mass surface density of DDO154 is exponential, and that the total\n",
    "stellar mass of the disc is $\\log(M_{*,tot}/M_\\odot) = 7.27$ and the mass-to-light ratio of the disc is $ϒ_{3.6}=0.23$ (in\n",
    "$M_\\odot$/$L_\\odot$). The distance to DDO154 is 4.3 Mpc.\n"
   ]
  },
  {
   "cell_type": "markdown",
   "metadata": {},
   "source": [
    "#### Q1 - Infer the total luminosity in $L_\\odot$"
   ]
  },
  {
   "cell_type": "markdown",
   "metadata": {},
   "source": [
    "#### Q2 - From figure 2 derive the scale-length $h$ of the stellar disc in kpc\n",
    "\n"
   ]
  },
  {
   "cell_type": "markdown",
   "metadata": {},
   "source": [
    "#### Q3 - Deduce the central mass surface density $\\Sigma_0$ of the stellar disc in $M_\\odot$ $\\text{pc}^{-2}$ "
   ]
  },
  {
   "cell_type": "markdown",
   "metadata": {},
   "source": [
    "#### Q4 - Deduce the radial profiel of circular velocity of the stellar disc (km/s)"
   ]
  },
  {
   "cell_type": "markdown",
   "metadata": {},
   "source": [
    "#### Notes:  \n",
    "The total mass of an exponential disc is given by\n",
    "$$\n",
    "M_{\\text{tot}} = 2 \\pi \\Sigma_0 h^2\n",
    "$$\n",
    "The squared circular velocity of an exponential disc is given by\n",
    "$$\n",
    "v^2 = \\pi G \\Sigma_0 \\frac{r^2}{h} \\times \\left[I_0 \\left(\\frac{r}{2h}\\right) K_0 \\left(\\frac{r}{2h}\\right)  - I_1 \\left(\\frac{r}{2h}\\right) K_1 \\left(\\frac{r}{2h}\\right) \\right]\n",
    "$$\n",
    "where $\\Sigma_0$ is the central mass surface density, $h$ the scale-length, and $I_k$ and $K_k$ are the $I$ and $K$ Bessel\n",
    "functions of the 0th and 1st orders.  \n",
    "\n",
    "\n",
    "$G = 6.673 \\times 10^{-11} \\text{m}^3 \\text{ kg}^{-1} \\text{ s}^{-2}$  \n",
    "$1 M_\\odot = 1.989 \\times 10^{30} \\text{ kg}$   \n",
    "$1 \\text{ pc} = 3.085678 10^13 $   \n",
    "Hint: recast $G$ so that h and $\\Sigma_0$ can be passed as input parameters of a function (developed by yourself) directly into $\\text{kpc}$ and $M_\\odot \\text{ pc}^{-2}$"
   ]
  },
  {
   "cell_type": "markdown",
   "metadata": {},
   "source": [
    "### Gaseous disc\n",
    "\n",
    "The velocity contribution of the gaseous disc is obtained by integration of the surface density of the\n",
    "atomic gas (the HI density has been scale by a factor of 1.4 to take into account the cosmic\n",
    "contributions of atoms heavier than H). It is given in the second column of the file rcddo154.dat."
   ]
  },
  {
   "cell_type": "markdown",
   "metadata": {},
   "source": [
    "## 2. Rotation curve and baryonic velocity contributions\n",
    "\n",
    "The rotation curve of HI gas in DDO154 is given in the 3rd column of the file rcddo154.dat. The\n",
    "associated velocity uncertainties $δ_v$ are given in the 4th column."
   ]
  },
  {
   "cell_type": "markdown",
   "metadata": {},
   "source": [
    "#### Q5- Draw the rotation curve with uncertainties as a function of radius"
   ]
  },
  {
   "cell_type": "code",
   "execution_count": 61,
   "metadata": {},
   "outputs": [],
   "source": [
    "from astropy.table import Table\n",
    "import matplotlib.pyplot as plt\n",
    "import numpy as np\n"
   ]
  },
  {
   "cell_type": "code",
   "execution_count": 62,
   "metadata": {},
   "outputs": [],
   "source": [
    "# Kinematic data from Block et al. 2008\n",
    "t = Table.read(\"rcddo154.dat\", format=\"ascii\")"
   ]
  },
  {
   "cell_type": "code",
   "execution_count": 63,
   "metadata": {},
   "outputs": [],
   "source": [
    "colnames = (\"radius\", \"vgas\", \"vobs\", \"err_vobs\")\n",
    "for old_name, new_name in zip(t.colnames, colnames):\n",
    "    t.rename_column(old_name, new_name)"
   ]
  },
  {
   "cell_type": "code",
   "execution_count": 78,
   "metadata": {},
   "outputs": [
    {
     "data": {
      "image/png": "[encoded data removed]",
      "text/plain": [
       "<Figure size 720x432 with 1 Axes>"
      ]
     },
     "metadata": {
      "needs_background": "light"
     },
     "output_type": "display_data"
    }
   ],
   "source": [
    "plt.figure(figsize=(10, 6))\n",
    "plt.errorbar(t[\"radius\"], t[\"vobs\"], yerr=t[\"err_vobs\"], fmt=\".\", label='HI velocity')\n",
    "plt.title(\"Rotation curve of HI gas of DDO154\")\n",
    "plt.xlabel(\"Radius (kpc)\")\n",
    "plt.ylabel(\"vobs (km/s)\")\n",
    "plt.legend()\n",
    "plt.show()"
   ]
  },
  {
   "cell_type": "markdown",
   "metadata": {},
   "source": [
    "#### Q6 - Overlay the velocity contributions from the stellar disc and the gaseous disc obtained in previous questions"
   ]
  },
  {
   "cell_type": "markdown",
   "metadata": {},
   "source": [
    "## 3. Mass distribution modeling"
   ]
  },
  {
   "cell_type": "markdown",
   "metadata": {},
   "source": [
    "The goal here is to fit the mass distribution model to the rotation curve of DDO154 to constrain the\n",
    "structural parameters of the dark matter density profile, using the velocity contributions from the\n",
    "stellar disc and the gaseous disc."
   ]
  },
  {
   "cell_type": "markdown",
   "metadata": {},
   "source": [
    "#### Q7- Fit the model of rotation curve\n",
    "\n",
    "assuming a  \n",
    "- (i) pseudo-isothermal sphere of dark matter (PISmodel), and \n",
    "- (ii) a Navarro-Frenk-White density profile for dark matter (NFW model). \n",
    "\n",
    "To do that, you\n",
    "can assume that the weightings of the velocity points are the inverse of the squared uncertainties $w = 1/ δ_v^2$"
   ]
  },
  {
   "cell_type": "code",
   "execution_count": 79,
   "metadata": {},
   "outputs": [],
   "source": [
    "def pse(r: np.ndarray, rho_0: float, r_c:float) -> np.ndarray:\n",
    "    \"\"\"Pseudo-isothermal sphere density profile\"\"\"\n",
    "    return rho_0 * r_c ** 2 / (r ** 2 + r_c ** 2)\n",
    "\n",
    "def NFW_density(r:np.ndarray, rho_2: float, r_2: float) -> np.ndarray:\n",
    "    \"\"\"Navarro-Frenk-White density profile (Navarro+ 1996, 1997)\"\"\"\n",
    "    x = r/r_2\n",
    "    return 4.0 * rho_2  / x * np.power(x + 1, -2.0)\n",
    "\n",
    "def Einasto_density(r: np.ndarray, rho_2: float, r_2: float, n: float) -> np.ndarray:\n",
    "    \"\"\"Einasto density profile (Navarro+ 2004, 2010, Mamon & Lokas 2005)\"\"\"\n",
    "    return rho_2 * np.exp(-2 * n * (np.power(r/r_2, 1/n) - 1))"
   ]
  },
  {
   "cell_type": "markdown",
   "metadata": {},
   "source": [
    "#### Q8- What is the model that best fit the rotation curve of DDO154?"
   ]
  },
  {
   "cell_type": "markdown",
   "metadata": {},
   "source": [
    "#### Q9- Plot the rotation curve and the model of rotation curve for the PIS and NFW models, as well the the contributions from stars, gas and dark matter"
   ]
  },
  {
   "cell_type": "markdown",
   "metadata": {},
   "source": [
    "#### Q10- Describe the differences between results from the 2 models"
   ]
  },
  {
   "cell_type": "markdown",
   "metadata": {},
   "source": [
    "### Remainder\n",
    "\n",
    "Reminder:\n",
    "The circular velocity for a NFW model is given by \n",
    "$$\n",
    "v^2_{\\text{NFW}}(r) = v^2_{200} \\, \\frac{\\frac{\\log(1 + \\eta) - \\eta}{1 + \\eta}}{x \\left[\\log(1+c) - \\frac{c}{1+c}\\right]}\n",
    "$$\n",
    "with 2 characteristic parameters:\n",
    "- scale velocity $v_{200}$ = velocity (in km/s) of a sphere at a radius $r_{200}$, with $r_{200}$ being the radius at\n",
    "which the density of the sphere is 200 times the critical density of the closure of the Universe,\n",
    "$r_{200}=100 v_{200}/H_0$, with $r_{200}$ in kpc, $H_0$ the Hubble constant (68 km/s/Mpc)\n",
    "- $c$ = concentration of the halo, unitless\n",
    "- $η= cx$, with $x=r/r_{200}$\n",
    "\n",
    "The circular velocity for a PIS model is given by\n",
    "$$\n",
    "v^2_{\\text{PIS}}(r)= 4 \\pi G \\rho_0 r_c^2 \\left( 1 - \\frac{r_c}{r \\arctan(r/r_c)} \\right)\n",
    "$$\n",
    "with 2 characteristic parameters:  \n",
    "- scale density $ρ_0$ of the sphere is the central mass density, in $M_\\odot \\text{pc}^{-3}$\n",
    "- $r_c$ = core radius of the sphere, in kpc\n",
    "\n",
    "\n",
    "Hint: recast $G$ so that $r_c$ and $ρ_0$ can be passed as input parameters of a function (developed by yourself) directly into $\\text{kpc}$ and $10^{-3}$ $M_\\odot \\text{pc}^{-2}$.\n"
   ]
  }
 ],
 "metadata": {
  "interpreter": {
   "hash": "7c6734141a65471e905a2515875e1c91e41dfb1a2f4fe6828aa977f658d2585b"
  },
  "kernelspec": {
   "display_name": "Python 3.10.4 ('py310')",
   "language": "python",
   "name": "python3"
  },
  "language_info": {
   "codemirror_mode": {
    "name": "ipython",
    "version": 3
   },
   "file_extension": ".py",
   "mimetype": "text/x-python",
   "name": "python",
   "nbconvert_exporter": "python",
   "pygments_lexer": "ipython3",
   "version": "3.10.4"
  },
  "orig_nbformat": 4
 },
 "nbformat": 4,
 "nbformat_minor": 2
}
